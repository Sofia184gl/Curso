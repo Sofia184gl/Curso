{
 "cells": [
  {
   "cell_type": "markdown",
   "id": "d080c811-9689-4873-96cd-63a3ff6b0ffc",
   "metadata": {},
   "source": [
    "# Graficas"
   ]
  },
  {
   "cell_type": "code",
   "execution_count": 10,
   "id": "0d5021c6-e509-465a-bcff-248e8cdb940c",
   "metadata": {},
   "outputs": [
    {
     "ename": "ModuleNotFoundError",
     "evalue": "No module named 'matplotlib'",
     "output_type": "error",
     "traceback": [
      "\u001b[1;31m---------------------------------------------------------------------------\u001b[0m",
      "\u001b[1;31mModuleNotFoundError\u001b[0m                       Traceback (most recent call last)",
      "Cell \u001b[1;32mIn[10], line 2\u001b[0m\n\u001b[0;32m      1\u001b[0m \u001b[38;5;28;01mimport\u001b[39;00m \u001b[38;5;21;01mpandas\u001b[39;00m \u001b[38;5;28;01mas\u001b[39;00m \u001b[38;5;21;01mpd\u001b[39;00m\n\u001b[1;32m----> 2\u001b[0m \u001b[38;5;28;01mimport\u001b[39;00m \u001b[38;5;21;01mmatplotlib\u001b[39;00m\u001b[38;5;21;01m.\u001b[39;00m\u001b[38;5;21;01mpyplot\u001b[39;00m \u001b[38;5;28;01mas\u001b[39;00m \u001b[38;5;21;01mplt\u001b[39;00m\n\u001b[0;32m      3\u001b[0m url\u001b[38;5;241m=\u001b[39m\u001b[38;5;124m'\u001b[39m\u001b[38;5;124mhttps://tinyurl.com/spa56t3d\u001b[39m\u001b[38;5;124m'\u001b[39m\n\u001b[0;32m      4\u001b[0m data\u001b[38;5;241m=\u001b[39mpd\u001b[38;5;241m.\u001b[39mread_csv(url)\n",
      "\u001b[1;31mModuleNotFoundError\u001b[0m: No module named 'matplotlib'"
     ]
    }
   ],
   "source": [
    "import pandas as pd\n",
    "import matplotlib.pyplot as plt\n",
    "url='https://tinyurl.com/spa56t3d'\n",
    "data=pd.read_csv(url)\n",
    "data[\"race/ethnicity\"].value_counts().head(5).plot(kind='pie')\n"
   ]
  },
  {
   "cell_type": "markdown",
   "id": "fe4d04dd-b0f6-4941-a959-6877f7f64cec",
   "metadata": {},
   "source": [
    "# Indexing and Selecting"
   ]
  },
  {
   "cell_type": "code",
   "execution_count": 11,
   "id": "e31e72d2-07c1-4aa9-bbf3-863c84ec7cbb",
   "metadata": {},
   "outputs": [
    {
     "name": "stdout",
     "output_type": "stream",
     "text": [
      "              Name            Team  Number Position   Age Height  Weight  \\\n",
      "0    Avery Bradley  Boston Celtics     0.0       PG  25.0    6-2   180.0   \n",
      "1      Jae Crowder  Boston Celtics    99.0       SF  25.0    6-6   235.0   \n",
      "2     John Holland  Boston Celtics    30.0       SG  27.0    6-5   205.0   \n",
      "3      R.J. Hunter  Boston Celtics    28.0       SG  22.0    6-5   185.0   \n",
      "4    Jonas Jerebko  Boston Celtics     8.0       PF  29.0   6-10   231.0   \n",
      "..             ...             ...     ...      ...   ...    ...     ...   \n",
      "453   Shelvin Mack       Utah Jazz     8.0       PG  26.0    6-3   203.0   \n",
      "454      Raul Neto       Utah Jazz    25.0       PG  24.0    6-1   179.0   \n",
      "455   Tibor Pleiss       Utah Jazz    21.0        C  26.0    7-3   256.0   \n",
      "456    Jeff Withey       Utah Jazz    24.0        C  26.0    7-0   231.0   \n",
      "457            NaN             NaN     NaN      NaN   NaN    NaN     NaN   \n",
      "\n",
      "               College     Salary  \n",
      "0                Texas  7730337.0  \n",
      "1            Marquette  6796117.0  \n",
      "2    Boston University        NaN  \n",
      "3        Georgia State  1148640.0  \n",
      "4                  NaN  5000000.0  \n",
      "..                 ...        ...  \n",
      "453             Butler  2433333.0  \n",
      "454                NaN   900000.0  \n",
      "455                NaN  2900000.0  \n",
      "456             Kansas   947276.0  \n",
      "457                NaN        NaN  \n",
      "\n",
      "[458 rows x 9 columns]\n"
     ]
    }
   ],
   "source": [
    "import pandas as pd\n",
    "url='http://tinyurl.com/ky3d9xu8'\n",
    "df=pd.read_csv(url)\n",
    "print(df)"
   ]
  },
  {
   "cell_type": "code",
   "execution_count": null,
   "id": "b0ad7850-de87-4c84-bdbf-ee866fc42359",
   "metadata": {},
   "outputs": [],
   "source": []
  }
 ],
 "metadata": {
  "kernelspec": {
   "display_name": "Python 3 (ipykernel)",
   "language": "python",
   "name": "python3"
  },
  "language_info": {
   "codemirror_mode": {
    "name": "ipython",
    "version": 3
   },
   "file_extension": ".py",
   "mimetype": "text/x-python",
   "name": "python",
   "nbconvert_exporter": "python",
   "pygments_lexer": "ipython3",
   "version": "3.11.4"
  }
 },
 "nbformat": 4,
 "nbformat_minor": 5
}
